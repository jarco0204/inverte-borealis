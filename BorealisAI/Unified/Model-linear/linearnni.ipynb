{
 "metadata": {
  "language_info": {
   "codemirror_mode": {
    "name": "ipython",
    "version": 3
   },
   "file_extension": ".py",
   "mimetype": "text/x-python",
   "name": "python",
   "nbconvert_exporter": "python",
   "pygments_lexer": "ipython3",
   "version": "3.7.2"
  },
  "orig_nbformat": 2,
  "kernelspec": {
   "name": "python372jvsc74a57bd0fb244c6b6b9237e6e3fa3faf64cdbdad650653f36bee7e07f29506d67a0f182d",
   "display_name": "Python 3.7.2 64-bit ('myFirstEnv': conda)"
  }
 },
 "nbformat": 4,
 "nbformat_minor": 2,
 "cells": [
  {
   "cell_type": "code",
   "execution_count": 1,
   "metadata": {},
   "outputs": [],
   "source": [
    "import torch\n",
    "import torch.nn as nn\n",
    "import torch.nn.functional as F\n",
    "import pandas as pd\n",
    "import numpy as np\n",
    "import FinalBorealis as dg\n",
    "import nni"
   ]
  },
  {
   "cell_type": "code",
   "execution_count": null,
   "metadata": {},
   "outputs": [],
   "source": [
    "class linearRegression(torch.nn.Module):\n",
    "    def __init__(self, inputSize, outputSize):\n",
    "        super(linearRegression, self).__init__()\n",
    "        self.linear = torch.nn.Linear(inputSize, outputSize)\n",
    "    def forward(self, x):\n",
    "        return self.linear(x)"
   ]
  },
  {
   "cell_type": "code",
   "execution_count": null,
   "metadata": {},
   "outputs": [],
   "source": [
    "def train(model, opt, loss_fn, train_ld, writer, n_epoch=3, textFile='test.txt'):\n",
    "    ##Iterate through a number of epochs\n",
    "    for epoch in range(n_epoch):\n",
    "        ##Training with batches of data\n",
    "        running_loss = 0.0\n",
    "        num_iters = len(train_ld)\n",
    "        for i, data in enumerate(train_ld,0):\n",
    "            inputs, labels = data[:,:16], data[:,16:]\n",
    "            #First step: Generate predictions\n",
    "           \n",
    "            pred = model(inputs)\n",
    "           \n",
    "            #2nd step: Calculate loss\n",
    "            loss = loss_fn(pred, labels)\n",
    "            loss.backward()\n",
    "            opt.step()\n",
    "\n",
    "            opt.zero_grad()\n",
    "            running_loss += loss.item()\n",
    "            if i % 100== 0:\n",
    "                nni.report_intermediate_result(running_loss)\n",
    "                running_loss = 0.0"
   ]
  },
  {
   "cell_type": "code",
   "execution_count": null,
   "metadata": {},
   "outputs": [],
   "source": [
    "def test(testLoader, model, writer, textFile):\n",
    "    #model = linearRegression(16,1)\n",
    "    #model.load_state_dict(torch.load(load_pretrained_weights))\n",
    "\n",
    "    offset = 0\n",
    "    total = 0\n",
    "    with torch.no_grad():\n",
    "        for data in testLoader:\n",
    "            #print(data)\n",
    "            outputs = model(data[:,:16])\n",
    "            #print(f'{outputs.shape}')\n",
    "            for i in range(outputs.shape[0]):\n",
    "                if i % 4000 == 3999:\n",
    "                offset += (outputs[i].item() * 100) / data[i, 16:].item()\n",
    "            total += outputs.shape[0]\n",
    "\n",
    "    result = offset / total\n",
    "    nni.report_final_result(result)"
   ]
  },
  {
   "cell_type": "code",
   "execution_count": null,
   "metadata": {},
   "outputs": [],
   "source": [
    "def main(args):\n",
    "    ## Load the data\n",
    "    data1 = pd.read_json('./data1.json')\n",
    "    data2 = pd.read_json('./data2.json')\n",
    "    data3 = pd.read_json('./data3.json')\n",
    "    data1 = torch.from_numpy(data1)\n",
    "    data2 = torch.from_numpy(data2)\n",
    "    data3 = torch.from_numpy(data3)\n",
    "    data = torch.cat((data1, torch.cat((data2, data3), 0), 0)\n",
    "    data = data.float()\n",
    "\n",
    "    ## Divide the data\n",
    "    testSize = int(0.1 * len(data))\n",
    "    trainSize = len(data)-testSize\n",
    "\n",
    "    trainSet, testSet = torch.utils.data.random_split(data, [trainSize, testSize])\n",
    "\n",
    "    ## Load the data into tensor\n",
    "    trainLoader = torch.utils.data.DataLoader(trainSet, batch_size=args['batch_size'], num_workers=0)\n",
    "    testLoader = torch.utils.data.DataLoader(testSet, batch_size=args['batch_size'], num_workers=0)\n",
    "\n",
    "    ## Model and parameters\n",
    "    model = linearRegression(16,1)\n",
    "    loss_fn = nn.MSELoss()\n",
    "    opt = torch.optim.SGD(model.parameters(), lr=args['lr'])\n",
    "\n",
    "    train(model, opt, loss_fn, trainLoader, writer, n_epoch=args['epochs'], textFile=textFile)\n",
    "    test(testLoader, model, writer, textFile)"
   ]
  },
  {
   "cell_type": "code",
   "execution_count": null,
   "metadata": {},
   "outputs": [],
   "source": [
    "if __name__ == '__main__':\n",
    "    try:\n",
    "        params = nni.get_next_parameter()"
   ]
  }
 ]
}