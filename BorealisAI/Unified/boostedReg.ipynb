{
 "metadata": {
  "language_info": {
   "codemirror_mode": {
    "name": "ipython",
    "version": 3
   },
   "file_extension": ".py",
   "mimetype": "text/x-python",
   "name": "python",
   "nbconvert_exporter": "python",
   "pygments_lexer": "ipython3",
   "version": "3.7.2"
  },
  "orig_nbformat": 2,
  "kernelspec": {
   "name": "python372jvsc74a57bd0fb244c6b6b9237e6e3fa3faf64cdbdad650653f36bee7e07f29506d67a0f182d",
   "display_name": "Python 3.7.2 64-bit ('myFirstEnv': conda)"
  }
 },
 "nbformat": 4,
 "nbformat_minor": 2,
 "cells": [
  {
   "cell_type": "code",
   "execution_count": 1,
   "metadata": {},
   "outputs": [],
   "source": [
    "import pandas as pd\n",
    "import xgboost as xgb\n",
    "from sklearn.model_selection import train_test_split\n",
    "from sklearn.metrics import mean_squared_error\n",
    "import itertools"
   ]
  },
  {
   "cell_type": "code",
   "execution_count": null,
   "metadata": {},
   "outputs": [],
   "source": [
    "data1, data2, data3 = pd.read_json('./data1.json'), pd.read_json('./data2.json'), pd.read_json('./data3.json')\n",
    "\n",
    "frames = [data1, data2, data3]\n",
    "\n",
    "data = pd.concat(frames, sort=False)\n",
    "trainSet, testSet = train_test_split(data, test_size=0.1)\n",
    "estimators = [x for x in range(300, 10001, 100)]\n",
    "lambdas = [10**-1, 10**-2, 10**-3, 10**-4]\n",
    "depths = [x for x in range(15, 51, 5)]\n",
    "mix = [estimators,lambdas,depths]\n",
    "textFile = 'xgtest.txt'\n",
    "#itertools.combinations(mix, 3)\n",
    "for i, comb in enumerate(itertools.product(*mix)):\n",
    "    with open(textFile, 'a') as f:\n",
    "            f.write(f'Set #:{i} with parameters: {comb} \\n')\n",
    "\n",
    "    regressor = xgb.XGBRegressor(\n",
    "        n_estimators = comb[0],\n",
    "        reg_lambda=comb[1],\n",
    "        gamma = 0,\n",
    "        max_depth=comb[2]\n",
    "    )\n",
    "    regressor.fit(trainSet.iloc[:,:16], trainSet.iloc[:,16:])\n",
    "\n",
    "    output_pred = regressor.predict(testSet.iloc[:,:16])\n",
    "    offset = 0\n",
    "    total = testSet.shape[0]\n",
    "    for i in range(len(output_pred)):\n",
    "        offset += (output_pred[i] * 100) / testSet.iloc[i,16:].output\n",
    "        #print(f'Prediction: {output_pred[i]}. Value: {testSet.iloc[i,16:].output}')\n",
    "    with open(textFile, 'a') as f:\n",
    "            f.write(f'The test were off by an average of: {offset/total:.2f}% \\n')"
   ]
  },
  {
   "cell_type": "code",
   "execution_count": 6,
   "metadata": {},
   "outputs": [
    {
     "output_type": "execute_result",
     "data": {
      "text/plain": [
       "11010.39015724753"
      ]
     },
     "metadata": {},
     "execution_count": 6
    }
   ],
   "source": [
    "mean_squared_error(testSet.iloc[:,16:], output_pred)"
   ]
  },
  {
   "cell_type": "code",
   "execution_count": null,
   "metadata": {},
   "outputs": [],
   "source": []
  }
 ]
}