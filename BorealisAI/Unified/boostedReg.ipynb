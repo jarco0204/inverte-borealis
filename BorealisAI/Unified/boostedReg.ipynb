{
 "metadata": {
  "language_info": {
   "codemirror_mode": {
    "name": "ipython",
    "version": 3
   },
   "file_extension": ".py",
   "mimetype": "text/x-python",
   "name": "python",
   "nbconvert_exporter": "python",
   "pygments_lexer": "ipython3",
   "version": "3.7.2"
  },
  "orig_nbformat": 2,
  "kernelspec": {
   "name": "python372jvsc74a57bd0fb244c6b6b9237e6e3fa3faf64cdbdad650653f36bee7e07f29506d67a0f182d",
   "display_name": "Python 3.7.2 64-bit ('myFirstEnv': conda)"
  }
 },
 "nbformat": 4,
 "nbformat_minor": 2,
 "cells": [
  {
   "cell_type": "code",
   "execution_count": 5,
   "metadata": {},
   "outputs": [],
   "source": [
    "import pandas as pd\n",
    "import xgboost as xgb\n",
    "from sklearn.model_selection import train_test_split\n",
    "from sklearn.metrics import mean_squared_error"
   ]
  },
  {
   "cell_type": "code",
   "execution_count": 25,
   "metadata": {},
   "outputs": [
    {
     "output_type": "stream",
     "name": "stdout",
     "text": [
      "[23:34:27] WARNING: src/objective/regression_obj.cu:152: reg:linear is now deprecated in favor of reg:squarederror.\n"
     ]
    },
    {
     "output_type": "execute_result",
     "data": {
      "text/plain": [
       "XGBRegressor()"
      ]
     },
     "metadata": {},
     "execution_count": 25
    }
   ],
   "source": [
    "data1, data2, data3 = pd.read_json('./data1.json'), pd.read_json('./data2.json'), pd.read_json('./data3.json')\n",
    "\n",
    "frames = [data1, data2, data3]\n",
    "\n",
    "data = pd.concat(frames, sort=False)\n",
    "trainSet, testSet = train_test_split(data, test_size=0.1)\n",
    "\n",
    "regressor = xgb.XGBRegressor(\n",
    "    n_estimators = 100,\n",
    "    reg_lambda=1,\n",
    "    gamma = 0,\n",
    "    max_depth=3\n",
    ")\n",
    "regressor.fit(trainSet.iloc[:,:16], trainSet.iloc[:,16:])"
   ]
  },
  {
   "cell_type": "code",
   "execution_count": 33,
   "metadata": {},
   "outputs": [
    {
     "output_type": "execute_result",
     "data": {
      "text/plain": [
       "    avocado   cheese   chicken  chickenTeriyaki  meatball    olives     steak  \\\n",
       "0  0.135862  0.22336  0.008037         0.001624  0.158921  0.194234  0.003909   \n",
       "\n",
       "     tomato      tuna    clear  freezingRain      rain  snowStorm     snowy  \\\n",
       "0  0.025545  0.111075  0.04595           0.0  0.032533   0.010218  0.007522   \n",
       "\n",
       "        Day      Hour  \n",
       "0  0.005733  0.035477  "
      ],
      "text/html": "<div>\n<style scoped>\n    .dataframe tbody tr th:only-of-type {\n        vertical-align: middle;\n    }\n\n    .dataframe tbody tr th {\n        vertical-align: top;\n    }\n\n    .dataframe thead th {\n        text-align: right;\n    }\n</style>\n<table border=\"1\" class=\"dataframe\">\n  <thead>\n    <tr style=\"text-align: right;\">\n      <th></th>\n      <th>avocado</th>\n      <th>cheese</th>\n      <th>chicken</th>\n      <th>chickenTeriyaki</th>\n      <th>meatball</th>\n      <th>olives</th>\n      <th>steak</th>\n      <th>tomato</th>\n      <th>tuna</th>\n      <th>clear</th>\n      <th>freezingRain</th>\n      <th>rain</th>\n      <th>snowStorm</th>\n      <th>snowy</th>\n      <th>Day</th>\n      <th>Hour</th>\n    </tr>\n  </thead>\n  <tbody>\n    <tr>\n      <th>0</th>\n      <td>0.135862</td>\n      <td>0.22336</td>\n      <td>0.008037</td>\n      <td>0.001624</td>\n      <td>0.158921</td>\n      <td>0.194234</td>\n      <td>0.003909</td>\n      <td>0.025545</td>\n      <td>0.111075</td>\n      <td>0.04595</td>\n      <td>0.0</td>\n      <td>0.032533</td>\n      <td>0.010218</td>\n      <td>0.007522</td>\n      <td>0.005733</td>\n      <td>0.035477</td>\n    </tr>\n  </tbody>\n</table>\n</div>"
     },
     "metadata": {},
     "execution_count": 33
    }
   ],
   "source": [
    "pd.DataFrame(regressor.feature_importances_.reshape(1, -1), columns= data.columns[:-1])"
   ]
  },
  {
   "cell_type": "code",
   "execution_count": 34,
   "metadata": {},
   "outputs": [],
   "source": [
    "output_pred = regressor.predict(testSet.iloc[:,:16])\n"
   ]
  },
  {
   "cell_type": "code",
   "execution_count": 35,
   "metadata": {},
   "outputs": [
    {
     "output_type": "execute_result",
     "data": {
      "text/plain": [
       "14176.071628212629"
      ]
     },
     "metadata": {},
     "execution_count": 35
    }
   ],
   "source": [
    "mean_squared_error(testSet.iloc[:,16:], output_pred)"
   ]
  },
  {
   "cell_type": "code",
   "execution_count": null,
   "metadata": {},
   "outputs": [],
   "source": []
  }
 ]
}