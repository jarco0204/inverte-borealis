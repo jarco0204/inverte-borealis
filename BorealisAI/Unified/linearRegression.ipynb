{
 "metadata": {
  "language_info": {
   "codemirror_mode": {
    "name": "ipython",
    "version": 3
   },
   "file_extension": ".py",
   "mimetype": "text/x-python",
   "name": "python",
   "nbconvert_exporter": "python",
   "pygments_lexer": "ipython3",
   "version": "3.7.2"
  },
  "orig_nbformat": 2,
  "kernelspec": {
   "name": "python372jvsc74a57bd0fb244c6b6b9237e6e3fa3faf64cdbdad650653f36bee7e07f29506d67a0f182d",
   "display_name": "Python 3.7.2 64-bit ('myFirstEnv': conda)"
  }
 },
 "nbformat": 4,
 "nbformat_minor": 2,
 "cells": [
  {
   "source": [
    "# This is the script for the linear regression model\n",
    "## The imports"
   ],
   "cell_type": "markdown",
   "metadata": {}
  },
  {
   "cell_type": "code",
   "execution_count": 1,
   "metadata": {},
   "outputs": [],
   "source": [
    "import torch\n",
    "import torch.nn as nn\n",
    "import torch.nn.functional as F\n",
    "import pandas as pd\n",
    "import numpy as np\n",
    "from torch.utils.tensorboard import SummaryWriter\n",
    "import FinalBorealis as dg\n",
    "import datetime"
   ]
  },
  {
   "source": [
    "I decided to create the module as a class so I could give it an input size and output size, and for future reusability"
   ],
   "cell_type": "markdown",
   "metadata": {}
  },
  {
   "cell_type": "code",
   "execution_count": 2,
   "metadata": {},
   "outputs": [],
   "source": [
    "class linearRegression(torch.nn.Module):\n",
    "    def __init__(self, inputSize, outputSize):\n",
    "        super(linearRegression, self).__init__()\n",
    "        self.linear = torch.nn.Linear(inputSize, outputSize)\n",
    "    def forward(self, x):\n",
    "        return self.linear(x)"
   ]
  },
  {
   "source": [
    "This is how the training of the model is done. For this function I used inspiration from the example model given by Borealis, this function receives:\n",
    "    - Model: In this case a linear regression model.\n",
    "    - Opt: Optimization function.\n",
    "    - loss_fn: Loss Function.\n",
    "    - train_ld: the data.\n",
    "    - n_epochs (default = 3): Epochs of training.\n",
    "    - save_to (default = './trainedModel.pth'): The file generated for the model"
   ],
   "cell_type": "markdown",
   "metadata": {}
  },
  {
   "cell_type": "code",
   "execution_count": 88,
   "metadata": {},
   "outputs": [],
   "source": [
    "def train(model, opt, loss_fn, train_ld, n_epoch=3, save_to='./trainedModel.pth'):\n",
    "    ##Iterate through a number of epochs\n",
    "    for epoch in range(n_epoch):\n",
    "        ##Training with batches of data\n",
    "        running_loss = 0.0\n",
    "        num_iters = len(train_ld)\n",
    "        for i, data in enumerate(train_ld,0):\n",
    "            print(type)\n",
    "            inputs, labels = data[:,:16], data[:,16:]\n",
    "            #First step: Generate predictions\n",
    "           \n",
    "            pred = model(inputs)\n",
    "           \n",
    "            #2nd step: Calculate loss\n",
    "            loss = loss_fn(pred, labels)\n",
    "            loss.backward()\n",
    "            opt.step()\n",
    "\n",
    "            opt.zero_grad()\n",
    "            running_loss += loss.item()\n",
    "            if i % 1014 == 1013:\n",
    "                print(f\"Loss at epoch [{epoch}/{n_epoch}], iteration [{i + 1}/{num_iters}]:{running_loss /2000}\")\n",
    "                running_loss = 0.0\n",
    "    print(f\"Training done after {n_epoch} epochs!\")\n",
    "\n",
    "    torch.save(model.state_dict(), save_to)\n",
    "    print(f\"Trained model is saved to {save_to}.\")\n"
   ]
  },
  {
   "source": [
    "Converting the pandas dataframe to a torch tensor"
   ],
   "cell_type": "markdown",
   "metadata": {}
  },
  {
   "cell_type": "code",
   "execution_count": 52,
   "metadata": {},
   "outputs": [],
   "source": [
    "def pdToTensor(dataframe, file=True):\n",
    "    if not file:\n",
    "        dataRefined = dg.filteredByHour(data)\n",
    "        ingredients = { 'tuna':'TunaWeight', 'meatball':'MeatballWeight', 'chicken':'ChickenWeight',\n",
    "                'steak':'SteakWeight', 'chickenTeriyaki':'ChcknTkiWeight', 'cheese':'Cheese', 'tomato':'Tomato', 'olives':'Olives',\n",
    "                'avocado':'Avocado'}\n",
    "        finalDF = pd.DataFrame(columns=['Weather','Day','Hour','TypeOfFood','output'] )\n",
    "        for row in dataRefined.iterrows():\n",
    "            sample = {'Weather': row[1].Weather,'Day':row[0].dayofyear,'Hour':row[0].hour}\n",
    "            for ing in ingredients:\n",
    "                if row[1][ingredients[ing]] != 0:\n",
    "                    sample['TypeOfFood'] = ing\n",
    "                    sample['output'] = row[1][ingredients[ing]]\n",
    "                    finalDF = finalDF.append(sample, ignore_index=True)\n",
    "        finalDF = pd.concat([pd.get_dummies(finalDF['Weather'], prefix='', prefix_sep=''), finalDF], axis=1)\n",
    "        finalDF = pd.concat([pd.get_dummies(finalDF['TypeOfFood'], prefix='', prefix_sep=''), finalDF], axis=1)\n",
    "        del finalDF['Weather']\n",
    "        del finalDF['TypeOfFood']\n",
    "        finalDF.to_json(f'/data{datetime.now}.json')\n",
    "        return torch.from_numpy(finalDF.values)\n",
    "    \n",
    "    newTensor = torch.from_numpy(dataframe.values)\n",
    "    return newTensor"
   ]
  },
  {
   "cell_type": "code",
   "execution_count": 94,
   "metadata": {},
   "outputs": [],
   "source": [
    "def main():\n",
    "    ## TO DO: implement a tensorBoard to visualize the loss\n",
    "    writer = SummaryWriter()\n",
    "    \n",
    "    data = pdToTensor(pd.read_json('data.json'))\n",
    "    ## Converting the dataframe to a tensor \n",
    "    data = data.float()\n",
    "    #inputs (date/hour, type of ingredient)\n",
    "    testSize = int(0.1 * len(data))\n",
    "    trainSize = len(data)-testSize\n",
    "\n",
    "    trainSet, testSet = torch.utils.data.random_split(data, [trainSize, testSize])\n",
    "\n",
    "    trainLoader = torch.utils.data.DataLoader(trainSet, batch_size=4, num_workers=0)\n",
    "    testLoader = torch.utils.data.DataLoader(testSet, batch_size=4, num_workers=0)\n",
    "    \n",
    "    print(f\"Training set consist of {len(trainSet)}, and the test set consists of {len(testSet)}\")\n",
    "\n",
    "\n",
    "    model = linearRegression(16,1)\n",
    "    loss_fn = nn.MSELoss()\n",
    "    opt = torch.optim.SGD(model.parameters(), lr=1e-5)\n",
    "    #print(model.parameters)\n",
    "    train(model, opt, loss_fn, trainLoader, n_epoch=5)"
   ]
  },
  {
   "cell_type": "code",
   "execution_count": 95,
   "metadata": {
    "tags": []
   },
   "outputs": [
    {
     "output_type": "stream",
     "name": "stdout",
     "text": [
      "Training set consist of 27262, and the test set consists of 3029\n",
      "Loss at epoch [0/5], iteration [1014/6816]:15473.319845672608\n",
      "Loss at epoch [0/5], iteration [2028/6816]:15727.631386108398\n",
      "Loss at epoch [0/5], iteration [3042/6816]:14651.931653305053\n",
      "Loss at epoch [0/5], iteration [4056/6816]:15741.96657006073\n",
      "Loss at epoch [0/5], iteration [5070/6816]:15094.247301742555\n",
      "Loss at epoch [0/5], iteration [6084/6816]:15346.470744476319\n",
      "Loss at epoch [1/5], iteration [1014/6816]:14185.953639221192\n",
      "Loss at epoch [1/5], iteration [2028/6816]:15497.017599975587\n",
      "Loss at epoch [1/5], iteration [3042/6816]:14454.089000610351\n",
      "Loss at epoch [1/5], iteration [4056/6816]:15553.20206641388\n",
      "Loss at epoch [1/5], iteration [5070/6816]:14911.949539337158\n",
      "Loss at epoch [1/5], iteration [6084/6816]:15151.304972015381\n",
      "Loss at epoch [2/5], iteration [1014/6816]:14007.172763496399\n",
      "Loss at epoch [2/5], iteration [2028/6816]:15305.734486221314\n",
      "Loss at epoch [2/5], iteration [3042/6816]:14267.099618240356\n",
      "Loss at epoch [2/5], iteration [4056/6816]:15372.21212713623\n",
      "Loss at epoch [2/5], iteration [5070/6816]:14736.437175964356\n",
      "Loss at epoch [2/5], iteration [6084/6816]:14963.725949768066\n",
      "Loss at epoch [3/5], iteration [1014/6816]:13835.604732887268\n",
      "Loss at epoch [3/5], iteration [2028/6816]:15121.864399230957\n",
      "Loss at epoch [3/5], iteration [3042/6816]:14087.650520606994\n",
      "Loss at epoch [3/5], iteration [4056/6816]:15198.25049295044\n",
      "Loss at epoch [3/5], iteration [5070/6816]:14567.892261779785\n",
      "Loss at epoch [3/5], iteration [6084/6816]:14783.500192596435\n",
      "Loss at epoch [4/5], iteration [1014/6816]:13670.87912902069\n",
      "Loss at epoch [4/5], iteration [2028/6816]:14945.051055496217\n",
      "Loss at epoch [4/5], iteration [3042/6816]:13915.37149760437\n",
      "Loss at epoch [4/5], iteration [4056/6816]:15030.978260566711\n",
      "Loss at epoch [4/5], iteration [5070/6816]:14405.974979644776\n",
      "Loss at epoch [4/5], iteration [6084/6816]:14610.272949645996\n",
      "Training done after 5 epochs!\n",
      "Trained model is saved to ./trainedModel.pth.\n"
     ]
    }
   ],
   "source": [
    "if __name__ == '__main__':\n",
    "    main()"
   ]
  },
  {
   "cell_type": "code",
   "execution_count": null,
   "metadata": {},
   "outputs": [],
   "source": []
  }
 ]
}