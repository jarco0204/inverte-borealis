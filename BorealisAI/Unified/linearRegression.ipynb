{
 "metadata": {
  "language_info": {
   "codemirror_mode": {
    "name": "ipython",
    "version": 3
   },
   "file_extension": ".py",
   "mimetype": "text/x-python",
   "name": "python",
   "nbconvert_exporter": "python",
   "pygments_lexer": "ipython3",
   "version": "3.7.2"
  },
  "orig_nbformat": 2,
  "kernelspec": {
   "name": "python372jvsc74a57bd0fb244c6b6b9237e6e3fa3faf64cdbdad650653f36bee7e07f29506d67a0f182d",
   "display_name": "Python 3.7.2 64-bit ('myFirstEnv': conda)"
  }
 },
 "nbformat": 4,
 "nbformat_minor": 2,
 "cells": [
  {
   "source": [
    "# This is the script for the linear regression model\n",
    "## The imports"
   ],
   "cell_type": "markdown",
   "metadata": {}
  },
  {
   "cell_type": "code",
   "execution_count": 1,
   "metadata": {},
   "outputs": [],
   "source": [
    "import torch\n",
    "import torch.nn as nn\n",
    "import torch.nn.functional as F\n",
    "import pandas as pd\n",
    "import numpy as np\n",
    "#from torch.utils.tensorboard import SummaryWriter\n",
    "import FinalBorealis as dg\n",
    "#import datetime\n",
    "#import json\n",
    "#import itertools\n",
    "import nni"
   ]
  },
  {
   "source": [
    "I decided to create the module as a class so I could give it an input size and output size, and for future reusability"
   ],
   "cell_type": "markdown",
   "metadata": {}
  },
  {
   "cell_type": "code",
   "execution_count": 2,
   "metadata": {},
   "outputs": [],
   "source": [
    "class linearRegression(torch.nn.Module):\n",
    "    def __init__(self, inputSize, outputSize):\n",
    "        super(linearRegression, self).__init__()\n",
    "        self.linear = torch.nn.Linear(inputSize, outputSize)\n",
    "    def forward(self, x):\n",
    "        return self.linear(x)"
   ]
  },
  {
   "source": [
    "This is how the training of the model is done. For this function I used inspiration from the example model given by Borealis, this function receives:\n",
    "    - Model: In this case a linear regression model.\n",
    "    - Opt: Optimization function.\n",
    "    - loss_fn: Loss Function.\n",
    "    - train_ld: the data.\n",
    "    - n_epochs (default = 3): Epochs of training.\n",
    "    - save_to (default = './trainedModel.pth'): The file generated for the model"
   ],
   "cell_type": "markdown",
   "metadata": {}
  },
  {
   "cell_type": "code",
   "execution_count": 3,
   "metadata": {},
   "outputs": [],
   "source": [
    "def train(model, opt, loss_fn, train_ld, writer, n_epoch=3, textFile='test.txt'):\n",
    "    ##Iterate through a number of epochs\n",
    "    for epoch in range(n_epoch):\n",
    "        ##Training with batches of data\n",
    "        running_loss = 0.0\n",
    "        num_iters = len(train_ld)\n",
    "        for i, data in enumerate(train_ld,0):\n",
    "            inputs, labels = data[:,:16], data[:,16:]\n",
    "            #First step: Generate predictions\n",
    "           \n",
    "            pred = model(inputs)\n",
    "           \n",
    "            #2nd step: Calculate loss\n",
    "            loss = loss_fn(pred, labels)\n",
    "            loss.backward()\n",
    "            opt.step()\n",
    "\n",
    "            opt.zero_grad()\n",
    "            running_loss += loss.item()\n",
    "            if i % 100== 0:\n",
    "                #print(f\"Loss at epoch [{epoch}/{n_epoch}], iteration [{i + 1}/{num_iters}]:{running_loss /2000}\")\n",
    "                writer.add_scalar('training loss', running_loss/100, epoch * len(train_ld) + i)\n",
    "                running_loss = 0.0\n",
    "    #print(f\"Training done after {n_epoch} epochs!\")\n",
    "    with open(textFile, 'a') as f:\n",
    "        f.write(f\"Training done after {n_epoch} epochs!\\n\")\n",
    "    #torch.save(model.state_dict(), save_to)\n",
    "    #print(f\"Trained model is saved to {save_to}.\")\n"
   ]
  },
  {
   "cell_type": "code",
   "execution_count": 4,
   "metadata": {},
   "outputs": [],
   "source": [
    "def test(testLoader, model, writer, textFile):\n",
    "    #model = linearRegression(16,1)\n",
    "    #model.load_state_dict(torch.load(load_pretrained_weights))\n",
    "\n",
    "    offset = 0\n",
    "    total = 0\n",
    "    with torch.no_grad():\n",
    "        for data in testLoader:\n",
    "            #print(data)\n",
    "            outputs = model(data[:,:16])\n",
    "            #print(f'{outputs.shape}')\n",
    "            for i in range(outputs.shape[0]):\n",
    "                if i % 4000 == 3999:\n",
    "                    print(f'Original value: {data[i,16:].item()}. \\n Prediction: {outputs[i].item()}')\n",
    "                offset += (outputs[i].item() * 100) / data[i, 16:].item()\n",
    "            total += outputs.shape[0]\n",
    "    writer.add_scalar('Test accuracy', offset / total)\n",
    "    #print(f'The model is off by: {offset / total:.2f}%')\n",
    "    with open(textFile, 'a') as f:\n",
    "        f.write(f'The model is off by: {offset / total:.2f}%\\n')"
   ]
  },
  {
   "source": [
    "Converting the pandas dataframe to a torch tensor"
   ],
   "cell_type": "markdown",
   "metadata": {}
  },
  {
   "cell_type": "code",
   "execution_count": 5,
   "metadata": {},
   "outputs": [],
   "source": [
    "def pdToTensor(dataframe, file=True):\n",
    "    if not file:\n",
    "        dataRefined = dg.filteredByHour(dataframe)\n",
    "        ingredients = { 'tuna':'TunaWeight', 'meatball':'MeatballWeight', 'chicken':'ChickenWeight',\n",
    "                'steak':'SteakWeight', 'chickenTeriyaki':'ChcknTkiWeight', 'cheese':'Cheese', 'tomato':'Tomato', 'olives':'Olives',\n",
    "                'avocado':'Avocado'}\n",
    "        finalDF = pd.DataFrame(columns=['Weather','Day','Hour','TypeOfFood','output'] )\n",
    "        for row in dataRefined.iterrows():\n",
    "            sample = {'Weather': row[1].Weather,'Day':row[0].dayofyear,'Hour':row[0].hour}\n",
    "            for ing in ingredients:\n",
    "                if row[1][ingredients[ing]] != 0:\n",
    "                    sample['TypeOfFood'] = ing\n",
    "                    sample['output'] = row[1][ingredients[ing]]\n",
    "                    finalDF = finalDF.append(sample, ignore_index=True)\n",
    "        finalDF = pd.concat([pd.get_dummies(finalDF['Weather'], prefix='', prefix_sep=''), finalDF], axis=1)\n",
    "        finalDF = pd.concat([pd.get_dummies(finalDF['TypeOfFood'], prefix='', prefix_sep=''), finalDF], axis=1)\n",
    "        del finalDF['Weather']\n",
    "        del finalDF['TypeOfFood']\n",
    "        finalDF.to_json('./data3.json')\n",
    "        return torch.from_numpy(finalDF.values)\n",
    "    newTensor = torch.from_numpy(dataframe.values)\n",
    "    return newTensor"
   ]
  },
  {
   "cell_type": "code",
   "execution_count": 10,
   "metadata": {},
   "outputs": [],
   "source": [
    "def main(args):\n",
    "    ## TO DO: implement a tensorBoard to visualize the loss\n",
    "    #writer = SummaryWriter()\n",
    "    data1 = pd.read_json('./data1.json')\n",
    "    data2 = pd.read_json('./data2.json')\n",
    "    data3 = pd.read_json('./data3.json')\n",
    "\n",
    "    data1 = pdToTensor(data1)\n",
    "    data2 = pdToTensor(data2)\n",
    "    data3 = pdToTensor(data3)\n",
    "    ## Converting the dataframe to a tensor \n",
    "    #data4 = torch.cat([data1, torch.cat([data2, data3], dim=1)], dim=1)\n",
    "    data = torch.cat((data1, torch.cat((data2, data3), 0)), 0)\n",
    "    data = data.float()\n",
    "    #print(data)\n",
    "    #inputs (date/hour, type of ingredient)\n",
    "    testSize = int(0.1 * len(data))\n",
    "    trainSize = len(data)-testSize\n",
    "\n",
    "    trainSet, testSet = torch.utils.data.random_split(data, [trainSize, testSize])\n",
    "\n",
    "\n",
    "## Parameters to test\n",
    "\n",
    "    trainLoader = torch.utils.data.DataLoader(trainSet, batch_size=args['batch_size'], num_workers=0)\n",
    "    testLoader = torch.utils.data.DataLoader(testSet, batch_size=args['batch_size'], num_workers=0)\n",
    "\n",
    "#print(f\"Training set consist of {len(trainSet)}, and the test set consists of {len(testSet)}\")\n",
    "\n",
    "\n",
    "    model = linearRegression(16,1)\n",
    "    loss_fn = nn.MSELoss()\n",
    "    opt = torch.optim.SGD(model.parameters(), lr=args['lr'])\n",
    "#print(model.parameters)\n",
    "    train(model, opt, loss_fn, trainLoader, writer, n_epoch=args['epochs'], textFile=textFile)\n",
    "    test(testLoader, model, writer, textFile)"
   ]
  },
  {
   "cell_type": "code",
   "execution_count": 11,
   "metadata": {
    "tags": []
   },
   "outputs": [],
   "source": [
    "if __name__ == '__main__':\n",
    "    params = {'batch_size': 32, 'lr': 1e-2,'epochs':50}\n",
    "    params = nni.get_next_parameter()\n",
    "    main(params)"
   ]
  },
  {
   "cell_type": "code",
   "execution_count": null,
   "metadata": {},
   "outputs": [],
   "source": []
  }
 ]
}